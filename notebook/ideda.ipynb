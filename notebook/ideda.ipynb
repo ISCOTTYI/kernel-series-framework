{
 "cells": [
  {
   "cell_type": "code",
   "execution_count": 1,
   "metadata": {},
   "outputs": [],
   "source": [
    "import sys, os\n",
    "sys.path.insert(1, os.path.join(sys.path[0], '..'))\n",
    "from plot_helpers import *\n",
    "from src.util import *"
   ]
  },
  {
   "attachments": {},
   "cell_type": "markdown",
   "metadata": {},
   "source": [
    "# Ikeda-like System"
   ]
  },
  {
   "cell_type": "code",
   "execution_count": 36,
   "metadata": {},
   "outputs": [
    {
     "data": {
      "text/plain": [
       "[<matplotlib.lines.Line2D at 0x1392f3580>]"
      ]
     },
     "execution_count": 36,
     "metadata": {},
     "output_type": "execute_result"
    },
    {
     "data": {
      "image/png": "[encoded data removed]",
      "text/plain": [
       "<Figure size 400x300 with 1 Axes>"
      ]
     },
     "metadata": {},
     "output_type": "display_data"
    }
   ],
   "source": [
    "from src.solver import dde_solver\n",
    "def f(T):\n",
    "    from jitcdde import y, t\n",
    "    from symengine import sin\n",
    "    return [sin(y(0, t-T))]\n",
    "T, m, t_max = 4.982, 200, 1e5\n",
    "ts, traj = kill_transients(*dde_solver(f(T), T, m, t_max))\n",
    "x0, xN = x_over_xT(traj, m=m)\n",
    "fig, ax = plt.subplots(figsize=(4,3))\n",
    "# ax.set(xlim=(0, 2*np.pi), ylim=(0, 2*np.pi))\n",
    "# ax.set(xlim=(-6*np.pi, 8*np.pi), ylim=(-6*np.pi, 8*np.pi))\n",
    "ax.plot(x0, xN)"
   ]
  }
 ],
 "metadata": {
  "kernelspec": {
   "display_name": "venv",
   "language": "python",
   "name": "python3"
  },
  "language_info": {
   "codemirror_mode": {
    "name": "ipython",
    "version": 3
   },
   "file_extension": ".py",
   "mimetype": "text/x-python",
   "name": "python",
   "nbconvert_exporter": "python",
   "pygments_lexer": "ipython3",
   "version": "3.9.16"
  },
  "orig_nbformat": 4
 },
 "nbformat": 4,
 "nbformat_minor": 2
}
